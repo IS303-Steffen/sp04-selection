{
 "cells": [
  {
   "cell_type": "markdown",
   "id": "6e51c9bf",
   "metadata": {},
   "source": [
    "\n",
    "# Review with AI: Selection (if, else, elif, and Logical Operators)\n",
    "\n",
    "Use this notebook to review how Python makes decisions using selection structures like `if`, `else`, `elif`, and logical operators.\n",
    "\n",
    "### How to use this notebook:\n",
    "- **Copy and paste** the provided prompts and questions into your preferred AI tool (such as ChatGPT or Copilot).\n",
    "- **Check your understanding** by explaining concepts in your own words and having AI correct or clarify your explanations.\n",
    "- **Generate practice problems** using the suggested prompt and attempt solving them.\n"
   ]
  },
  {
   "cell_type": "markdown",
   "id": "a925a01e",
   "metadata": {},
   "source": [
    "\n",
    "## AI Setup Prompt\n",
    "\n",
    "Start by pasting this prompt into your AI for clear, helpful responses:\n",
    "\n",
    "```\n",
    "I am a student in an introductory Python programming course. When I ask questions or describe concepts, respond as my personal tutor. Provide concise, clear explanations in simple language, gently correct my mistakes, and use relatable examples or metaphors. Let me know what I'm understanding well and what I might need to improve or clarify.\n",
    "```\n"
   ]
  },
  {
   "cell_type": "markdown",
   "id": "b283e550",
   "metadata": {},
   "source": [
    "\n",
    "## Questions to Review Concepts\n",
    "\n",
    "Ask your AI tutor these questions to clarify and reinforce key selection concepts:\n",
    "\n",
    "- How do I correctly write an `if` statement in Python?\n",
    "- Why is indentation important when using if statements?\n",
    "- What does an `elif` statement do? Do I need an `else` statement after `elif`?\n",
    "- What happens if multiple `elif` conditions are true?\n",
    "- What does it mean to nest an `if` statement?\n"
   ]
  },
  {
   "cell_type": "markdown",
   "id": "91d772e5",
   "metadata": {},
   "source": [
    "\n",
    "## Check Your Understanding\n",
    "\n",
    "Explain the following concepts in your own words to the AI. Have it correct misconceptions or clarify uncertainties:\n",
    "\n",
    "- Basic `if` and `else` statements\n",
    "- Using multiple `elif` statements effectively\n",
    "- Logical operators (`and`, `or`, `not`) and how they combine conditions\n",
    "- Nested `if` statements and why they might be useful\n"
   ]
  },
  {
   "cell_type": "markdown",
   "id": "ec138251",
   "metadata": {},
   "source": [
    "\n",
    "## Generate Your Own Practice Question\n",
    "\n",
    "Use the following prompt to create a personalized practice problem with AI. Attempt to solve it, then let AI review your solution:\n",
    "\n",
    "```\n",
    "I am a beginner Python student currently learning about selection structures including if, else, elif, and logical operators (and, or, not). Please create a clear, simple practice problem for me focused on using if-elif-else statements with logical operators. Provide only the problem without solutions. After I attempt it, I'll share my code to check my answer.\n",
    "```\n"
   ]
  }
 ],
 "metadata": {
  "language_info": {
   "name": "python"
  }
 },
 "nbformat": 4,
 "nbformat_minor": 5
}
