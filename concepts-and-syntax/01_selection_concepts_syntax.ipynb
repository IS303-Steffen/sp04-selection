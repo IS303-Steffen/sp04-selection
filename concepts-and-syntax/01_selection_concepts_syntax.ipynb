{
 "cells": [
  {
   "cell_type": "markdown",
   "id": "5838c67a",
   "metadata": {},
   "source": [
    "\n",
    "# Syntax & Concepts: Selection (if, else, elif, and Logical Operators)\n",
    "\n",
    "### Before Class:\n",
    "\n",
    "1. **Read this notebook and attempt each \"You Try\" section.**\n",
    "    - Need help? Check the AI tips or your textbook.\n",
    "\n",
    "2. **Complete at least one practice problem from this chapter.**\n",
    "    - Problems are ordered from easiest to hardest.\n",
    "    - Stuck? Copy and paste the instructions and AI prompt into your preferred AI service for guided help.\n",
    "\n",
    "3. **Submit your attempted practice problem code in the \"Class Prep Report\" on Learning Suite for credit.**\n",
    "\n",
    "#### Need more explanation? Copy and paste this AI prompt along with any code you have questions about:\n",
    "(Double-click the text below, then copy and paste it into your AI service.)\n",
    "\n",
    "```\n",
    "I am new to Python and just starting to learn coding. I need simple, clear explanations. When I ask a question or show my code, act like my personal tutor: correct mistakes gently, clarify misconceptions, and use easy-to-follow language. Feel free to use examples or metaphors to help me understand. Let me know when I'm doing well or what I need to adjust.\n",
    "```\n"
   ]
  },
  {
   "cell_type": "markdown",
   "id": "0f9642f2",
   "metadata": {},
   "source": [
    "\n",
    "### Chapter Summary\n",
    "In this chapter, you'll learn how to make your programs make decisions using `if`, `else`, and `elif` statements, as well as logical operators (`and`, `or`, `not`) to combine conditions. Selection is essential for writing dynamic code that responds differently based on varying conditions.\n"
   ]
  },
  {
   "cell_type": "markdown",
   "id": "bd60e79c",
   "metadata": {},
   "source": [
    "\n",
    "## 1: Using `if` Statements\n",
    "`if` statements allow your code to run only when certain conditions are true.\n"
   ]
  },
  {
   "cell_type": "code",
   "execution_count": null,
   "id": "ef182481",
   "metadata": {},
   "outputs": [],
   "source": [
    "age = 20\n",
    "if age >= 18:\n",
    "    print(\"You can vote!\")"
   ]
  },
  {
   "cell_type": "markdown",
   "id": "e18bfa88",
   "metadata": {},
   "source": [
    "\n",
    "### 1.p: You Try\n",
    "Write an `if` statement that prints a message if a number you choose is greater than 10.\n"
   ]
  },
  {
   "cell_type": "code",
   "execution_count": null,
   "id": "3bea08ba",
   "metadata": {},
   "outputs": [],
   "source": [
    "# Your code here\n"
   ]
  },
  {
   "cell_type": "markdown",
   "id": "79442387",
   "metadata": {},
   "source": [
    "\n",
    "## 2: Using `else` and `elif`\n",
    "Use `else` for alternative actions and `elif` for additional conditions.\n"
   ]
  },
  {
   "cell_type": "code",
   "execution_count": null,
   "id": "94fd5790",
   "metadata": {},
   "outputs": [],
   "source": [
    "grade = 85\n",
    "if grade >= 90:\n",
    "    print(\"Excellent!\")\n",
    "elif grade >= 80:\n",
    "    print(\"Good job!\")\n",
    "else:\n",
    "    print(\"Keep working!\")"
   ]
  },
  {
   "cell_type": "markdown",
   "id": "fb1944b4",
   "metadata": {},
   "source": [
    "\n",
    "### 2.p: You Try\n",
    "Write an `if-elif-else` structure that categorizes a person's age group (child, teen, adult).\n"
   ]
  },
  {
   "cell_type": "code",
   "execution_count": null,
   "id": "59a97d4d",
   "metadata": {},
   "outputs": [],
   "source": [
    "# Your code here\n"
   ]
  },
  {
   "cell_type": "markdown",
   "id": "a55a41f8",
   "metadata": {},
   "source": [
    "\n",
    "## 3: Logical Operators (`and`, `or`, `not`)\n",
    "Logical operators allow combining or modifying conditions.\n"
   ]
  },
  {
   "cell_type": "code",
   "execution_count": null,
   "id": "db93c4ee",
   "metadata": {},
   "outputs": [],
   "source": [
    "age = 25\n",
    "has_license = True\n",
    "\n",
    "if age >= 18 and has_license:\n",
    "    print(\"You can drive!\")"
   ]
  },
  {
   "cell_type": "markdown",
   "id": "42304eb0",
   "metadata": {},
   "source": [
    "\n",
    "### 3.p: You Try\n",
    "Use the `or` operator to print a message if a person is either a student or under 18.\n"
   ]
  },
  {
   "cell_type": "code",
   "execution_count": null,
   "id": "b3ee37a6",
   "metadata": {},
   "outputs": [],
   "source": [
    "# Your code here\n"
   ]
  },
  {
   "cell_type": "markdown",
   "id": "c136f710",
   "metadata": {},
   "source": [
    "\n",
    "## 4: Nested `if` Statements\n",
    "Nested `if` statements let you check conditions inside other conditions.\n"
   ]
  },
  {
   "cell_type": "code",
   "execution_count": null,
   "id": "7642bcd9",
   "metadata": {},
   "outputs": [],
   "source": [
    "score = 95\n",
    "attendance = 90\n",
    "\n",
    "if score >= 90:\n",
    "    if attendance >= 85:\n",
    "        print(\"Eligible for the award!\")\n",
    "    else:\n",
    "        print(\"Not eligible due to low attendance.\")"
   ]
  },
  {
   "cell_type": "markdown",
   "id": "ecfa6442",
   "metadata": {},
   "source": [
    "\n",
    "### 4.p: You Try\n",
    "Create a nested `if` statement that checks if a number is positive and even, then print an appropriate message.\n"
   ]
  },
  {
   "cell_type": "code",
   "execution_count": null,
   "id": "6a05cc50",
   "metadata": {},
   "outputs": [],
   "source": [
    "# Your code here\n"
   ]
  },
  {
   "cell_type": "markdown",
   "id": "26359095",
   "metadata": {},
   "source": [
    "\n",
    "## Want to Learn More?\n",
    "If you'd like extra help or more details, you can:\n",
    "- **Ask AI**: Use the suggested questions in the `review_with_ai` file.\n",
    "- **Read your textbook**: Check the reading guide on Learning Suite beforehand.\n",
    "- **Review class practice files**: They contain more detailed examples and explanations, available on Learning Suite.\n"
   ]
  }
 ],
 "metadata": {},
 "nbformat": 4,
 "nbformat_minor": 5
}
